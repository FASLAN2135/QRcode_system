{
 "cells": [
  {
   "cell_type": "code",
   "execution_count": 2,
   "id": "1005e41e",
   "metadata": {},
   "outputs": [
    {
     "name": "stdout",
     "output_type": "stream",
     "text": [
      "finish\n"
     ]
    }
   ],
   "source": [
    "import qrcode\n",
    "\n",
    "code = qrcode.QRCode(version = 1, box_size = 10, border = 5)\n",
    "code.add_data(\"https://www.......com/....\")\n",
    "code.make(fit = True)\n",
    "image = code.make_image(fill = \"Blue\", black_color = \"yellow\")\n",
    "image.save(\"okey.png\")\n",
    "print(\"finish\")"
   ]
  },
  {
   "cell_type": "code",
   "execution_count": null,
   "id": "f90e2295",
   "metadata": {},
   "outputs": [],
   "source": []
  }
 ],
 "metadata": {
  "kernelspec": {
   "display_name": "Python 3 (ipykernel)",
   "language": "python",
   "name": "python3"
  },
  "language_info": {
   "codemirror_mode": {
    "name": "ipython",
    "version": 3
   },
   "file_extension": ".py",
   "mimetype": "text/x-python",
   "name": "python",
   "nbconvert_exporter": "python",
   "pygments_lexer": "ipython3",
   "version": "3.11.4"
  }
 },
 "nbformat": 4,
 "nbformat_minor": 5
}
